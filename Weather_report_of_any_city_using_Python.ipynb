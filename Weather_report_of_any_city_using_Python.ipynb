{
  "cells": [
    {
      "cell_type": "markdown",
      "metadata": {
        "id": "view-in-github",
        "colab_type": "text"
      },
      "source": [
        "<a href=\"https://colab.research.google.com/github/Shaukat-Hussain/ETG_intermediate_python_projects/blob/main/Weather_report_of_any_city_using_Python.ipynb\" target=\"_parent\"><img src=\"https://colab.research.google.com/assets/colab-badge.svg\" alt=\"Open In Colab\"/></a>"
      ]
    },
    {
      "cell_type": "code",
      "source": [
        "import requests\n",
        "import json\n",
        "\n",
        "def get_weather_data(city):\n",
        "    \"\"\"\n",
        "    Gets the weather data for the specified city.\n",
        "\n",
        "    Args:\n",
        "        city (str): The name of the city to get the weather data for.\n",
        "\n",
        "    Returns:\n",
        "        dict: A dictionary containing the weather data for the specified city.\n",
        "    \"\"\"\n",
        "\n",
        "    url = \"https://api.weatherstack.com/current?access_key=0320d0a7914239a92892b319486b477f&query={}\".format(city)\n",
        "    response = requests.get(url)\n",
        "    if response.status_code == 200:\n",
        "        data = json.loads(response.content)\n",
        "        return data\n",
        "    else:\n",
        "        raise Exception(\"Error getting weather data: {}\".format(response.status_code))\n",
        "\n",
        "def main():\n",
        "    \"\"\"\n",
        "    Main function.\n",
        "    \"\"\"\n",
        "\n",
        "    city = input(\"Enter a city name: \")\n",
        "    data = get_weather_data(city)\n",
        "\n",
        "    # Print the weather data.\n",
        "    print(\"City:\", data[\"location\"][\"name\"])\n",
        "    print(\"Country:\", data[\"location\"][\"country\"])\n",
        "    print(\"Temperature:\", data[\"current\"][\"temperature\"])\n",
        "    print(\"Humidity:\", data[\"current\"][\"humidity\"])\n",
        "    print(\"Wind speed:\", data[\"current\"][\"wind_speed\"])\n",
        "\n",
        "if __name__ == \"__main__\":\n",
        "    main()"
      ],
      "outputs": [
        {
          "name": "stdout",
          "output_type": "stream",
          "text": [
            "Enter a city name: New York\n"
          ]
        },
        {
          "output_type": "error",
          "ename": "KeyError",
          "evalue": "ignored",
          "traceback": [
            "\u001b[0;31m---------------------------------------------------------------------------\u001b[0m",
            "\u001b[0;31mKeyError\u001b[0m                                  Traceback (most recent call last)",
            "\u001b[0;32m<ipython-input-7-c9dd88110dfb>\u001b[0m in \u001b[0;36m<cell line: 38>\u001b[0;34m()\u001b[0m\n\u001b[1;32m     37\u001b[0m \u001b[0;34m\u001b[0m\u001b[0m\n\u001b[1;32m     38\u001b[0m \u001b[0;32mif\u001b[0m \u001b[0m__name__\u001b[0m \u001b[0;34m==\u001b[0m \u001b[0;34m\"__main__\"\u001b[0m\u001b[0;34m:\u001b[0m\u001b[0;34m\u001b[0m\u001b[0;34m\u001b[0m\u001b[0m\n\u001b[0;32m---> 39\u001b[0;31m     \u001b[0mmain\u001b[0m\u001b[0;34m(\u001b[0m\u001b[0;34m)\u001b[0m\u001b[0;34m\u001b[0m\u001b[0;34m\u001b[0m\u001b[0m\n\u001b[0m",
            "\u001b[0;32m<ipython-input-7-c9dd88110dfb>\u001b[0m in \u001b[0;36mmain\u001b[0;34m()\u001b[0m\n\u001b[1;32m     30\u001b[0m \u001b[0;34m\u001b[0m\u001b[0m\n\u001b[1;32m     31\u001b[0m     \u001b[0;31m# Print the weather data.\u001b[0m\u001b[0;34m\u001b[0m\u001b[0;34m\u001b[0m\u001b[0m\n\u001b[0;32m---> 32\u001b[0;31m     \u001b[0mprint\u001b[0m\u001b[0;34m(\u001b[0m\u001b[0;34m\"City:\"\u001b[0m\u001b[0;34m,\u001b[0m \u001b[0mdata\u001b[0m\u001b[0;34m[\u001b[0m\u001b[0;34m\"location\"\u001b[0m\u001b[0;34m]\u001b[0m\u001b[0;34m[\u001b[0m\u001b[0;34m\"name\"\u001b[0m\u001b[0;34m]\u001b[0m\u001b[0;34m)\u001b[0m\u001b[0;34m\u001b[0m\u001b[0;34m\u001b[0m\u001b[0m\n\u001b[0m\u001b[1;32m     33\u001b[0m     \u001b[0mprint\u001b[0m\u001b[0;34m(\u001b[0m\u001b[0;34m\"Country:\"\u001b[0m\u001b[0;34m,\u001b[0m \u001b[0mdata\u001b[0m\u001b[0;34m[\u001b[0m\u001b[0;34m\"location\"\u001b[0m\u001b[0;34m]\u001b[0m\u001b[0;34m[\u001b[0m\u001b[0;34m\"country\"\u001b[0m\u001b[0;34m]\u001b[0m\u001b[0;34m)\u001b[0m\u001b[0;34m\u001b[0m\u001b[0;34m\u001b[0m\u001b[0m\n\u001b[1;32m     34\u001b[0m     \u001b[0mprint\u001b[0m\u001b[0;34m(\u001b[0m\u001b[0;34m\"Temperature:\"\u001b[0m\u001b[0;34m,\u001b[0m \u001b[0mdata\u001b[0m\u001b[0;34m[\u001b[0m\u001b[0;34m\"current\"\u001b[0m\u001b[0;34m]\u001b[0m\u001b[0;34m[\u001b[0m\u001b[0;34m\"temperature\"\u001b[0m\u001b[0;34m]\u001b[0m\u001b[0;34m)\u001b[0m\u001b[0;34m\u001b[0m\u001b[0;34m\u001b[0m\u001b[0m\n",
            "\u001b[0;31mKeyError\u001b[0m: 'location'"
          ]
        }
      ],
      "execution_count": 7,
      "metadata": {
        "colab": {
          "base_uri": "https://localhost:8080/",
          "height": 339
        },
        "id": "bttMndp64fqQ",
        "outputId": "06f4b513-349c-4149-b1f9-06616b63fec5"
      }
    },
    {
      "cell_type": "code",
      "source": [
        "import requests\n",
        "import json\n",
        "\n",
        "def get_weather_data(city):\n",
        "    \"\"\"\n",
        "    Gets the weather data for the specified city.\n",
        "\n",
        "    Args:\n",
        "        city (str): The name of the city to get the weather data for.\n",
        "\n",
        "    Returns:\n",
        "        dict: A dictionary containing the weather data for the specified city.\n",
        "    \"\"\"\n",
        "\n",
        "    # url = \"https://api.weatherstack.com/current?access_key=0320d0a7914239a92892b319486b477f&query={}\".format(city)\n",
        "\n",
        "    # url = \"http://api.weatherstack.com/?current access_key = 470cadcaf6d1731174eba128fe7052bb&query = New York\"\n",
        "    url = \"http://api.weatherstack.com/current?access_key=470cadcaf6d1731174eba128fe7052bb&query={}\".format(city)\n",
        "    response = requests.get(url)\n",
        "    if response.status_code == 200:\n",
        "        data = json.loads(response.content)\n",
        "        return data\n",
        "    else:\n",
        "        raise Exception(\"Error getting weather data: {}\".format(response.status_code))\n",
        "\n",
        "def main():\n",
        "    \"\"\"\n",
        "    Main function.\n",
        "    \"\"\"\n",
        "\n",
        "    city = \"New York\"\n",
        "    data = get_weather_data(city)\n",
        "\n",
        "    # Print the weather data.\n",
        "    print(data)\n",
        "    print(\"City:\", data[\"location\"][\"name\"])\n",
        "    print(\"Country:\", data[\"location\"][\"country\"])\n",
        "    print(\"Temperature:\", data[\"current\"][\"temperature\"])\n",
        "    print(\"Humidity:\", data[\"current\"][\"humidity\"])\n",
        "    print(\"Wind speed:\", data[\"current\"][\"wind_speed\"])\n",
        "\n",
        "if __name__ == \"__main__\":\n",
        "    main()"
      ],
      "metadata": {
        "colab": {
          "base_uri": "https://localhost:8080/"
        },
        "id": "Ze14L4Q770fx",
        "outputId": "90cefae7-f023-488a-e2fd-2da799e50b91"
      },
      "execution_count": 36,
      "outputs": [
        {
          "output_type": "stream",
          "name": "stdout",
          "text": [
            "{'request': {'type': 'City', 'query': 'New York, United States of America', 'language': 'en', 'unit': 'm'}, 'location': {'name': 'New York', 'country': 'United States of America', 'region': 'New York', 'lat': '40.714', 'lon': '-74.006', 'timezone_id': 'America/New_York', 'localtime': '2023-06-03 14:18', 'localtime_epoch': 1685801880, 'utc_offset': '-4.0'}, 'current': {'observation_time': '06:18 PM', 'temperature': 18, 'weather_code': 122, 'weather_icons': ['https://cdn.worldweatheronline.com/images/wsymbols01_png_64/wsymbol_0004_black_low_cloud.png'], 'weather_descriptions': ['Overcast'], 'wind_speed': 13, 'wind_degree': 80, 'wind_dir': 'E', 'pressure': 1017, 'precip': 0, 'humidity': 70, 'cloudcover': 100, 'feelslike': 18, 'uv_index': 6, 'visibility': 11, 'is_day': 'yes'}}\n",
            "City: New York\n",
            "Country: United States of America\n",
            "Temperature: 18\n",
            "Humidity: 70\n",
            "Wind speed: 13\n"
          ]
        }
      ]
    },
    {
      "cell_type": "markdown",
      "source": [
        "Here is a detailed explanation of each step in the code:\n",
        "\n",
        "1. The `import requests` and `import json` statements import the `requests` and `json` libraries, which will be used to make HTTP requests and parse JSON data, respectively.\n",
        "2. The `get_weather_data()` function takes a city name as input and returns a dictionary containing the weather data for that city.\n",
        "3. The `main()` function gets the city name from the user and calls the `get_weather_data()` function to get the weather data for that city.\n",
        "4. The weather data is then printed to the console.\n",
        "\n",
        "I hope this explanation is helpful."
      ],
      "metadata": {
        "id": "SX6_St9c4fqT"
      }
    }
  ],
  "metadata": {
    "colab": {
      "provenance": [],
      "include_colab_link": true
    },
    "kernelspec": {
      "display_name": "Python 3",
      "name": "python3"
    }
  },
  "nbformat": 4,
  "nbformat_minor": 0
}