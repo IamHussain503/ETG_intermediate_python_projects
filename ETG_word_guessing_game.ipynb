{
  "cells": [
    {
      "cell_type": "markdown",
      "metadata": {
        "id": "view-in-github",
        "colab_type": "text"
      },
      "source": [
        "<a href=\"https://colab.research.google.com/github/Shaukat-Hussain/ETG_intermediate_python_projects/blob/main/ETG_word_guessing_game.ipynb\" target=\"_parent\"><img src=\"https://colab.research.google.com/assets/colab-badge.svg\" alt=\"Open In Colab\"/></a>"
      ]
    },
    {
      "cell_type": "markdown",
      "source": [],
      "metadata": {
        "id": "mwzFueY55Qat"
      }
    },
    {
      "cell_type": "code",
      "source": [
        "# This code implements a simple game of Hangman.\n",
        "\n",
        "import random\n",
        "def main():\n",
        "\n",
        "  # Define the word list.\n",
        "  words =  [\"python\", \"programming\", \"machine learning\", \"artificial intelligence\"]\n",
        "\n",
        "  # Choose a random word.\n",
        "  word = random.choice(words)\n",
        "\n",
        "  # Initialize the game state.\n",
        "  guesses = []\n",
        "  wrong_guesses = 0\n",
        "\n",
        "  # Start the game loop.\n",
        "  while wrong_guesses < 6 and len(guesses) != len(word):\n",
        "\n",
        "    # Get the user's guess.\n",
        "    guess = input(\"Please guess a letter: \")\n",
        "\n",
        "    # Check if the guess has already been made.\n",
        "    if guess not in guesses:\n",
        "\n",
        "      # Check if the guess is correct.\n",
        "      if guess in word:\n",
        "        guesses.append(guess)\n",
        "        print(guesses)\n",
        "      else:\n",
        "        wrong_guesses += 1\n",
        "\n",
        "    # Print the current state of the game.\n",
        "    print(\"The word is: \" + \"\".join([c if c in guesses else \"-\" for c in word]))\n",
        "    guess_word = \"\".join([c if c in guesses else \"-\" for c in word])\n",
        "    if guess_word == word:\n",
        "      break\n",
        "\n",
        "    # Check if the game is over.\n",
        "    if wrong_guesses == 6 or len(guesses) == len(word):\n",
        "      break\n",
        "\n",
        "  # Print the game result.\n",
        "  if wrong_guesses < 6:\n",
        "    print(\"You won! Would you like to play again? (y/n)\")\n",
        "    play_again = input()\n",
        "    if play_again == \"y\":\n",
        "      main()\n",
        "    else:\n",
        "      print(\"Thanks for playing!\")\n",
        "  else:\n",
        "    print(\"You lost!\")\n",
        "\n",
        "if __name__ == \"__main__\":\n",
        "  main()"
      ],
      "metadata": {
        "colab": {
          "base_uri": "https://localhost:8080/"
        },
        "id": "shet3FWV9J-q",
        "outputId": "63f76b69-a444-4d39-b5b3-de95ba0eeb68"
      },
      "execution_count": 1,
      "outputs": [
        {
          "output_type": "stream",
          "name": "stdout",
          "text": [
            "Please guess a letter: y\n",
            "The word is: ----------------\n",
            "Please guess a letter: r\n",
            "['r']\n",
            "The word is: -----------r----\n",
            "Please guess a letter: t\n",
            "The word is: -----------r----\n",
            "Please guess a letter: e\n",
            "['r', 'e']\n",
            "The word is: ------e--e-r----\n",
            "Please guess a letter: a\n",
            "['r', 'e', 'a']\n",
            "The word is: -a----e--ear----\n",
            "Please guess a letter: n\n",
            "['r', 'e', 'a', 'n']\n",
            "The word is: -a---ne--earn-n-\n",
            "Please guess a letter: b\n",
            "The word is: -a---ne--earn-n-\n",
            "Please guess a letter: c\n",
            "['r', 'e', 'a', 'n', 'c']\n",
            "The word is: -ac--ne--earn-n-\n",
            "Please guess a letter: m\n",
            "['r', 'e', 'a', 'n', 'c', 'm']\n",
            "The word is: mac--ne--earn-n-\n",
            "Please guess a letter: h\n",
            "['r', 'e', 'a', 'n', 'c', 'm', 'h']\n",
            "The word is: mach-ne--earn-n-\n",
            "Please guess a letter: i\n",
            "['r', 'e', 'a', 'n', 'c', 'm', 'h', 'i']\n",
            "The word is: machine--earnin-\n",
            "Please guess a letter:  \n",
            "['r', 'e', 'a', 'n', 'c', 'm', 'h', 'i', ' ']\n",
            "The word is: machine -earnin-\n",
            "Please guess a letter: l\n",
            "['r', 'e', 'a', 'n', 'c', 'm', 'h', 'i', ' ', 'l']\n",
            "The word is: machine learnin-\n",
            "Please guess a letter: g\n",
            "['r', 'e', 'a', 'n', 'c', 'm', 'h', 'i', ' ', 'l', 'g']\n",
            "The word is: machine learning\n",
            "You won! Would you like to play again? (y/n)\n",
            "y\n",
            "Please guess a letter: 4\n",
            "The word is: -----------\n",
            "Please guess a letter: 6\n",
            "The word is: -----------\n",
            "Please guess a letter: 1\n",
            "The word is: -----------\n",
            "Please guess a letter: 2\n",
            "The word is: -----------\n",
            "Please guess a letter: f\n",
            "The word is: -----------\n",
            "Please guess a letter: a\n",
            "['a']\n",
            "The word is: -----a-----\n",
            "Please guess a letter: 3\n",
            "The word is: -----a-----\n",
            "You lost!\n"
          ]
        }
      ]
    },
    {
      "cell_type": "markdown",
      "source": [
        "The difficulty of this code is expert level because it uses a number of advanced Python concepts, such as importing modules, using lists, using functions, and using loops. However, the code is still relatively well-organized and easy to follow, and it should be possible to understand and modify it for different applications.\n",
        "\n",
        "Here is an explanation of each step in details:\n",
        "\n",
        "```\n",
        "1. Import the random module.\n",
        "2. Define the word list.\n",
        "3. Choose a random word from the word list.\n",
        "4. Initialize the game state.\n",
        "5. Start the game loop.\n",
        "6. Get the user's guess.\n",
        "7. Check if the guess is correct.\n",
        "8. If the guess is correct, add it to the list of guesses.\n",
        "9. Otherwise, increment the number of wrong guesses.\n",
        "10. Print the current state of the game.\n",
        "11. Check if the game is over.\n",
        "12. If the game is over, print the game result.\n",
        "```"
      ],
      "metadata": {
        "id": "eoYGJ7-g5QbJ"
      }
    }
  ],
  "metadata": {
    "colab": {
      "provenance": [],
      "toc_visible": true,
      "include_colab_link": true
    },
    "kernelspec": {
      "display_name": "Python 3",
      "name": "python3"
    }
  },
  "nbformat": 4,
  "nbformat_minor": 0
}