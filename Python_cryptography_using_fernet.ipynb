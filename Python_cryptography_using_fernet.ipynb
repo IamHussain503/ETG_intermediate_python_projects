{
  "cells": [
    {
      "cell_type": "markdown",
      "metadata": {
        "id": "view-in-github",
        "colab_type": "text"
      },
      "source": [
        "<a href=\"https://colab.research.google.com/github/Shaukat-Hussain/ETG_intermediate_python_projects/blob/main/Python_cryptography_using_fernet.ipynb\" target=\"_parent\"><img src=\"https://colab.research.google.com/assets/colab-badge.svg\" alt=\"Open In Colab\"/></a>"
      ]
    },
    {
      "cell_type": "markdown",
      "source": [
        "This code will allow you to encrypt and decrypt text using the Python cryptography library. The code can be written following steps:\n",
        "\n",
        "1. Import the cryptography library.\n",
        "2. Generate a Fernet key.\n",
        "3. Create a Fernet object.\n",
        "4. Encrypt the text.\n",
        "5. Print the encrypted text.\n",
        "6. Get the encrypted text to decrypt.\n",
        "7. Decrypt the text.\n",
        "8. Print the decrypted text.\n"
      ],
      "metadata": {
        "id": "xDyK6O-6C65u"
      }
    },
    {
      "cell_type": "code",
      "source": [
        "!pip install cryptography"
      ],
      "metadata": {
        "colab": {
          "base_uri": "https://localhost:8080/"
        },
        "id": "Diq9dXcNDeIM",
        "outputId": "609cb0a5-188e-4338-b356-f365a09f2ca5"
      },
      "execution_count": null,
      "outputs": [
        {
          "output_type": "stream",
          "name": "stdout",
          "text": [
            "Looking in indexes: https://pypi.org/simple, https://us-python.pkg.dev/colab-wheels/public/simple/\n",
            "Requirement already satisfied: cryptography in /usr/local/lib/python3.10/dist-packages (40.0.2)\n",
            "Requirement already satisfied: cffi>=1.12 in /usr/local/lib/python3.10/dist-packages (from cryptography) (1.15.1)\n",
            "Requirement already satisfied: pycparser in /usr/local/lib/python3.10/dist-packages (from cffi>=1.12->cryptography) (2.21)\n"
          ]
        }
      ]
    },
    {
      "cell_type": "code",
      "source": [
        "from cryptography.fernet import Fernet\n",
        "\n",
        "def encrypt(text):\n",
        "  # Generate a Fernet key\n",
        "  global key\n",
        "  key = Fernet.generate_key()\n",
        "\n",
        "  # Create a Fernet object\n",
        "  fernet = Fernet(key)\n",
        "\n",
        "  # Convert the text to bytes\n",
        "  data = bytes(text, \"utf-8\")\n",
        "\n",
        "  # Encrypt the data\n",
        "  encrypted_data = fernet.encrypt(data)\n",
        "\n",
        "  return encrypted_data\n",
        "\n",
        "def decrypt(encrypted_data):\n",
        "  # Create a Fernet object with the same key that was used to encrypt the data\n",
        "  fernet = Fernet(key)\n",
        "\n",
        "  # Decrypt the data\n",
        "  decrypted_data = fernet.decrypt(encrypted_data)\n",
        "\n",
        "  # Convert the decrypted data back to a string\n",
        "  text = decrypted_data.decode(\"utf-8\")\n",
        "\n",
        "  return text\n",
        "\n",
        "if __name__ == \"__main__\":\n",
        "  # Get the text to encrypt\n",
        "  text = input(\"Enter the text to encrypt: \")\n",
        "\n",
        "  # Encrypt the text\n",
        "  encrypted_text = encrypt(text)\n",
        "\n",
        "  # Print the encrypted text\n",
        "  print(\"Encrypted text:\", encrypted_text)\n",
        "\n",
        "  # Get the encrypted text to decrypt\n",
        "  encrypted_text = input(\"Enter the encrypted text to decrypt: \")\n",
        "\n",
        "  # Decrypt the text\n",
        "  decrypted_text = decrypt(encrypted_text)\n",
        "\n",
        "  # Print the decrypted text\n",
        "  print(\"Decrypted text:\", decrypted_text)\n"
      ],
      "metadata": {
        "colab": {
          "base_uri": "https://localhost:8080/"
        },
        "id": "BXeyYsCME0m5",
        "outputId": "6cc8bc69-3fe1-4d8e-fefa-2c6c6f587985"
      },
      "execution_count": 1,
      "outputs": [
        {
          "output_type": "stream",
          "name": "stdout",
          "text": [
            "Enter the text to encrypt: Hello this is the encryption video from ETG\n",
            "Encrypted text: b'gAAAAABke1qwrjyFXX9RSOrS2x05IbAZ52dfNnM2AUAPtU4dzQIXTbcD2FkapuDmaPwu8_gXvzkHpfVcOtoIxy0zBBRuU9Q0UmpBOTVCQY0plsP_HY_XCqeinrJqwuTNZdIFcU3VrwuG'\n",
            "Enter the encrypted text to decrypt: 'gAAAAABke1qwrjyFXX9RSOrS2x05IbAZ52dfNnM2AUAPtU4dzQIXTbcD2FkapuDmaPwu8_gXvzkHpfVcOtoIxy0zBBRuU9Q0UmpBOTVCQY0plsP_HY_XCqeinrJqwuTNZdIFcU3VrwuG'\n",
            "Decrypted text: Hello this is the encryption video from ETG\n"
          ]
        }
      ]
    }
  ],
  "metadata": {
    "colab": {
      "provenance": [],
      "include_colab_link": true
    },
    "kernelspec": {
      "display_name": "Python 3",
      "name": "python3"
    }
  },
  "nbformat": 4,
  "nbformat_minor": 0
}