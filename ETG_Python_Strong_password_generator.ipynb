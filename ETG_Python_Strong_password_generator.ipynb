{
  "nbformat": 4,
  "nbformat_minor": 0,
  "metadata": {
    "colab": {
      "provenance": []
    },
    "kernelspec": {
      "name": "python3",
      "display_name": "Python 3"
    },
    "language_info": {
      "name": "python"
    }
  },
  "cells": [
    {
      "cell_type": "markdown",
      "source": [
        " Python trick that involves creating a simple command-line utility for generating strong passwords. The utility will allow the user to specify the length of the password and the types of characters to include (e.g. letters, numbers, symbols). Here's the code:\n"
      ],
      "metadata": {
        "id": "f1ohCjIkq25V"
      }
    },
    {
      "cell_type": "code",
      "execution_count": 7,
      "metadata": {
        "colab": {
          "base_uri": "https://localhost:8080/"
        },
        "id": "JwGYLdx2qrWu",
        "outputId": "88db58ff-f90e-43be-a350-c5aca95a2af2"
      },
      "outputs": [
        {
          "output_type": "stream",
          "name": "stdout",
          "text": [
            "Generated password: c@S!jN$B0bb0\n"
          ]
        }
      ],
      "source": [
        "import random\n",
        "import string\n",
        "\n",
        "def generate_password(length, use_letters=True, use_digits=True, use_punctuation=True):\n",
        "    # Create a string of all possible characters based on the user's preferences\n",
        "    characters = \"\"\n",
        "    if use_letters:\n",
        "        characters += string.ascii_letters\n",
        "    if use_digits:\n",
        "        characters += string.digits\n",
        "    if use_punctuation:\n",
        "        characters += string.punctuation\n",
        "    # print(characters)\n",
        "\n",
        "    # Generate the password by randomly selecting characters from the characters string\n",
        "    password = \"\".join(random.choice(characters) for _ in range(length))\n",
        "\n",
        "    return password\n",
        "\n",
        "# Example usage\n",
        "password = generate_password(12)\n",
        "print(f\"Generated password: {password}\")"
      ]
    },
    {
      "cell_type": "code",
      "source": [],
      "metadata": {
        "id": "S6k_ho2sqtom"
      },
      "execution_count": null,
      "outputs": []
    },
    {
      "cell_type": "markdown",
      "source": [
        "\n",
        "This code defines a function called `generate_password` that takes in several arguments: `length` (the desired length of the password), `use_letters` (whether to include letters in the password), `use_digits` (whether to include digits in the password), and `use_punctuation` (whether to include punctuation in the password). The function starts by creating an empty string called `characters` and then adds all of the possible characters to it based on the user's preferences. It then uses a list comprehension and `random.choice` to generate a random password of the desired length.\n",
        "\n",
        "You can call this function with different arguments to generate passwords of different lengths and with different character sets. For example, `generate_password(12)` will generate a 12-character password using letters, digits, and punctuation. You can also specify which character sets to use by setting the corresponding arguments to `True` or `False`. For example, `generate_password(12, use_digits=False)` will generate a 12-character password using only letters and punctuation.\n",
        "\n",
        "I hope this helps! Let me know if you have any questions about this code or if there's anything else I can help with."
      ],
      "metadata": {
        "id": "5dhcReCmqve3"
      }
    }
  ]
}